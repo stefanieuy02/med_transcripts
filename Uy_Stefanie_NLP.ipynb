{
 "cells": [
  {
   "cell_type": "code",
   "execution_count": 39,
   "metadata": {},
   "outputs": [
    {
     "name": "stderr",
     "output_type": "stream",
     "text": [
      "[nltk_data] Downloading package punkt to /Users/Stefanie/nltk_data...\n",
      "[nltk_data]   Package punkt is already up-to-date!\n",
      "[nltk_data] Downloading package stopwords to\n",
      "[nltk_data]     /Users/Stefanie/nltk_data...\n",
      "[nltk_data]   Package stopwords is already up-to-date!\n",
      "[nltk_data] Downloading package wordnet to\n",
      "[nltk_data]     /Users/Stefanie/nltk_data...\n",
      "[nltk_data]   Package wordnet is already up-to-date!\n"
     ]
    }
   ],
   "source": [
    "import pandas as pd\n",
    "import numpy as np\n",
    "\n",
    "#sentiment analysis packages\n",
    "import re\n",
    "import nltk\n",
    "import seaborn as sns\n",
    "nltk.download('punkt')\n",
    "from nltk.tokenize import word_tokenize\n",
    "from nltk import pos_tag\n",
    "from nltk.collocations import BigramAssocMeasures, BigramCollocationFinder\n",
    "from nltk.collocations import BigramCollocationFinder\n",
    "nltk.download('stopwords')\n",
    "from nltk.corpus import stopwords\n",
    "nltk.download('wordnet')\n",
    "from nltk.corpus import wordnet\n",
    "from nltk.stem import PorterStemmer\n",
    "from textblob import TextBlob\n",
    "\n",
    "#topic modeling packages\n",
    "import gensim\n",
    "from gensim import corpora\n",
    "\n",
    "from sklearn.feature_extraction.text import TfidfVectorizer\n",
    "#for the topic modeling!\n",
    "from sklearn.decomposition import NMF\n",
    "\n",
    "from spacy import displacy\n",
    "from wordcloud import WordCloud\n",
    "import matplotlib.pyplot as plt\n",
    "import string"
   ]
  },
  {
   "cell_type": "markdown",
   "metadata": {},
   "source": [
    "## Medical Transcription Data"
   ]
  },
  {
   "cell_type": "code",
   "execution_count": 2,
   "metadata": {},
   "outputs": [],
   "source": [
    "df = pd.read_csv('MedicalTranscripts.csv')"
   ]
  },
  {
   "cell_type": "code",
   "execution_count": 3,
   "metadata": {},
   "outputs": [
    {
     "name": "stdout",
     "output_type": "stream",
     "text": [
      "<class 'pandas.core.frame.DataFrame'>\n",
      "RangeIndex: 2182 entries, 0 to 2181\n",
      "Data columns (total 2 columns):\n",
      " #   Column         Non-Null Count  Dtype \n",
      "---  ------         --------------  ----- \n",
      " 0   Index          2182 non-null   int64 \n",
      " 1   transcription  2170 non-null   object\n",
      "dtypes: int64(1), object(1)\n",
      "memory usage: 34.2+ KB\n"
     ]
    },
    {
     "data": {
      "text/html": [
       "<div>\n",
       "<style scoped>\n",
       "    .dataframe tbody tr th:only-of-type {\n",
       "        vertical-align: middle;\n",
       "    }\n",
       "\n",
       "    .dataframe tbody tr th {\n",
       "        vertical-align: top;\n",
       "    }\n",
       "\n",
       "    .dataframe thead th {\n",
       "        text-align: right;\n",
       "    }\n",
       "</style>\n",
       "<table border=\"1\" class=\"dataframe\">\n",
       "  <thead>\n",
       "    <tr style=\"text-align: right;\">\n",
       "      <th></th>\n",
       "      <th>Index</th>\n",
       "      <th>transcription</th>\n",
       "    </tr>\n",
       "  </thead>\n",
       "  <tbody>\n",
       "    <tr>\n",
       "      <th>0</th>\n",
       "      <td>0</td>\n",
       "      <td>SUBJECTIVE:,  This 23-year-old white female pr...</td>\n",
       "    </tr>\n",
       "    <tr>\n",
       "      <th>1</th>\n",
       "      <td>1</td>\n",
       "      <td>PAST MEDICAL HISTORY:, He has difficulty climb...</td>\n",
       "    </tr>\n",
       "    <tr>\n",
       "      <th>2</th>\n",
       "      <td>2</td>\n",
       "      <td>HISTORY OF PRESENT ILLNESS: , I have seen ABC ...</td>\n",
       "    </tr>\n",
       "    <tr>\n",
       "      <th>3</th>\n",
       "      <td>3</td>\n",
       "      <td>2-D M-MODE: , ,1.  Left atrial enlargement wit...</td>\n",
       "    </tr>\n",
       "    <tr>\n",
       "      <th>4</th>\n",
       "      <td>4</td>\n",
       "      <td>1.  The left ventricular cavity size and wall ...</td>\n",
       "    </tr>\n",
       "  </tbody>\n",
       "</table>\n",
       "</div>"
      ],
      "text/plain": [
       "   Index                                      transcription\n",
       "0      0  SUBJECTIVE:,  This 23-year-old white female pr...\n",
       "1      1  PAST MEDICAL HISTORY:, He has difficulty climb...\n",
       "2      2  HISTORY OF PRESENT ILLNESS: , I have seen ABC ...\n",
       "3      3  2-D M-MODE: , ,1.  Left atrial enlargement wit...\n",
       "4      4  1.  The left ventricular cavity size and wall ..."
      ]
     },
     "execution_count": 3,
     "metadata": {},
     "output_type": "execute_result"
    }
   ],
   "source": [
    "df.info()\n",
    "df.head()"
   ]
  },
  {
   "cell_type": "markdown",
   "metadata": {},
   "source": [
    "### Data Cleaning"
   ]
  },
  {
   "cell_type": "code",
   "execution_count": 4,
   "metadata": {},
   "outputs": [],
   "source": [
    "#drop all observations with null transcriptions\n",
    "df.dropna(subset=['transcription'], inplace=True)"
   ]
  },
  {
   "cell_type": "code",
   "execution_count": 5,
   "metadata": {},
   "outputs": [
    {
     "data": {
      "text/html": [
       "<div>\n",
       "<style scoped>\n",
       "    .dataframe tbody tr th:only-of-type {\n",
       "        vertical-align: middle;\n",
       "    }\n",
       "\n",
       "    .dataframe tbody tr th {\n",
       "        vertical-align: top;\n",
       "    }\n",
       "\n",
       "    .dataframe thead th {\n",
       "        text-align: right;\n",
       "    }\n",
       "</style>\n",
       "<table border=\"1\" class=\"dataframe\">\n",
       "  <thead>\n",
       "    <tr style=\"text-align: right;\">\n",
       "      <th></th>\n",
       "      <th>Index</th>\n",
       "      <th>transcription</th>\n",
       "      <th>cleaned transcription</th>\n",
       "    </tr>\n",
       "  </thead>\n",
       "  <tbody>\n",
       "    <tr>\n",
       "      <th>0</th>\n",
       "      <td>0</td>\n",
       "      <td>SUBJECTIVE:,  This 23-year-old white female pr...</td>\n",
       "      <td>[subjective, year, old, white, female, present...</td>\n",
       "    </tr>\n",
       "    <tr>\n",
       "      <th>1</th>\n",
       "      <td>1</td>\n",
       "      <td>PAST MEDICAL HISTORY:, He has difficulty climb...</td>\n",
       "      <td>[past, medical, history, difficulty, climbing,...</td>\n",
       "    </tr>\n",
       "  </tbody>\n",
       "</table>\n",
       "</div>"
      ],
      "text/plain": [
       "   Index                                      transcription  \\\n",
       "0      0  SUBJECTIVE:,  This 23-year-old white female pr...   \n",
       "1      1  PAST MEDICAL HISTORY:, He has difficulty climb...   \n",
       "\n",
       "                               cleaned transcription  \n",
       "0  [subjective, year, old, white, female, present...  \n",
       "1  [past, medical, history, difficulty, climbing,...  "
      ]
     },
     "execution_count": 5,
     "metadata": {},
     "output_type": "execute_result"
    }
   ],
   "source": [
    "def token_stop_LDA(text):\n",
    "    # replace any non-letters (except numbers) with a space\n",
    "    text = re.sub('[^A-Za-z]+', ' ', str(text))\n",
    "    \n",
    "    # lower case the text\n",
    "    text = text.lower()\n",
    "    \n",
    "    # tokenize the text\n",
    "    tokens = word_tokenize(text) \n",
    "    newlist = []\n",
    "    for word in tokens:\n",
    "        if word not in set(stopwords.words('english')): # remove stop words\n",
    "          newlist.append(word)\n",
    "    return newlist\n",
    "\n",
    "\n",
    "# apply the function clean to each transcription\n",
    "df['cleaned transcription'] = df['transcription'].apply(token_stop_LDA)\n",
    "df.head(2)"
   ]
  },
  {
   "cell_type": "markdown",
   "metadata": {},
   "source": [
    "### Topic Modeling - LDA "
   ]
  },
  {
   "cell_type": "code",
   "execution_count": 6,
   "metadata": {},
   "outputs": [
    {
     "name": "stdout",
     "output_type": "stream",
     "text": [
      "Dictionary<18290 unique tokens: ['adenopathy', 'ago', 'allegra', 'allergic', 'allergies']...>\n"
     ]
    }
   ],
   "source": [
    "dict_ = corpora.Dictionary(df['cleaned transcription'])\n",
    "print(dict_)"
   ]
  },
  {
   "cell_type": "code",
   "execution_count": 7,
   "metadata": {},
   "outputs": [],
   "source": [
    "doc_term_matrix = [dict_.doc2bow(i) for i in df['cleaned transcription']]"
   ]
  },
  {
   "cell_type": "code",
   "execution_count": 8,
   "metadata": {},
   "outputs": [],
   "source": [
    "topic_3 = 3\n",
    "topic_5 = 5\n",
    "topic_7 = 7\n",
    "topic_9 = 9\n",
    "chunksize = 1000\n",
    "passes = 20\n",
    "iterations = 400\n",
    "eval_every = None \n",
    "\n",
    "lda = gensim.models.LdaModel"
   ]
  },
  {
   "cell_type": "code",
   "execution_count": 9,
   "metadata": {},
   "outputs": [],
   "source": [
    "lda_model_9 = lda(doc_term_matrix,\n",
    "    num_topics=topic_9,\n",
    "    id2word = dict_,\n",
    "    iterations=iterations,\n",
    "    passes=passes,\n",
    "    eval_every=eval_every,\n",
    "    random_state=9651\n",
    ")"
   ]
  },
  {
   "cell_type": "code",
   "execution_count": 10,
   "metadata": {},
   "outputs": [
    {
     "data": {
      "text/plain": [
       "[(0,\n",
       "  '0.015*\"c\" + 0.015*\"patient\" + 0.014*\"placed\" + 0.010*\"left\" + 0.009*\"procedure\" + 0.008*\"incision\" + 0.007*\"l\" + 0.007*\"anesthesia\" + 0.007*\"well\" + 0.007*\"using\"'),\n",
       " (1,\n",
       "  '0.015*\"normal\" + 0.012*\"right\" + 0.011*\"foot\" + 0.011*\"tendon\" + 0.008*\"joint\" + 0.008*\"lateral\" + 0.007*\"medial\" + 0.007*\"ankle\" + 0.007*\"left\" + 0.006*\"stress\"'),\n",
       " (2,\n",
       "  '0.021*\"artery\" + 0.017*\"patient\" + 0.014*\"placed\" + 0.012*\"left\" + 0.010*\"procedure\" + 0.010*\"carotid\" + 0.009*\"right\" + 0.008*\"running\" + 0.008*\"femoral\" + 0.008*\"using\"'),\n",
       " (3,\n",
       "  '0.019*\"patient\" + 0.018*\"procedure\" + 0.013*\"lead\" + 0.011*\"right\" + 0.010*\"catheter\" + 0.009*\"atrial\" + 0.008*\"using\" + 0.008*\"left\" + 0.007*\"placed\" + 0.007*\"sheath\"'),\n",
       " (4,\n",
       "  '0.033*\"right\" + 0.028*\"left\" + 0.023*\"artery\" + 0.020*\"pulmonary\" + 0.015*\"normal\" + 0.008*\"aorta\" + 0.007*\"stenosis\" + 0.007*\"catheter\" + 0.007*\"proximal\" + 0.006*\"flow\"'),\n",
       " (5,\n",
       "  '0.022*\"patient\" + 0.020*\"history\" + 0.012*\"mg\" + 0.007*\"heart\" + 0.007*\"pain\" + 0.006*\"normal\" + 0.006*\"disease\" + 0.006*\"daily\" + 0.006*\"past\" + 0.005*\"chest\"'),\n",
       " (6,\n",
       "  '0.025*\"patient\" + 0.011*\"procedure\" + 0.009*\"well\" + 0.007*\"also\" + 0.006*\"x\" + 0.005*\"right\" + 0.005*\"diagnosis\" + 0.005*\"without\" + 0.004*\"upper\" + 0.004*\"normal\"'),\n",
       " (7,\n",
       "  '0.038*\"left\" + 0.029*\"artery\" + 0.025*\"coronary\" + 0.025*\"right\" + 0.014*\"catheter\" + 0.013*\"patient\" + 0.012*\"procedure\" + 0.010*\"french\" + 0.010*\"femoral\" + 0.010*\"stenosis\"'),\n",
       " (8,\n",
       "  '0.012*\"right\" + 0.010*\"left\" + 0.008*\"normal\" + 0.007*\"pain\" + 0.006*\"exam\" + 0.006*\"unremarkable\" + 0.006*\"mri\" + 0.005*\"revealed\" + 0.005*\"time\" + 0.004*\"motor\"')]"
      ]
     },
     "execution_count": 10,
     "metadata": {},
     "output_type": "execute_result"
    }
   ],
   "source": [
    "lda_model_9.print_topics(num_words=10)"
   ]
  },
  {
   "cell_type": "code",
   "execution_count": 11,
   "metadata": {},
   "outputs": [
    {
     "data": {
      "text/plain": [
       "-7.82595145703357"
      ]
     },
     "execution_count": 11,
     "metadata": {},
     "output_type": "execute_result"
    }
   ],
   "source": [
    "lda_model_9.log_perplexity(doc_term_matrix)"
   ]
  },
  {
   "cell_type": "code",
   "execution_count": 12,
   "metadata": {},
   "outputs": [],
   "source": [
    "lda_model_7 = lda(doc_term_matrix,\n",
    "    num_topics=topic_7,\n",
    "    id2word = dict_,\n",
    "    iterations=iterations,\n",
    "    passes=passes,\n",
    "    eval_every=eval_every,\n",
    "    random_state=9651\n",
    ")"
   ]
  },
  {
   "cell_type": "code",
   "execution_count": 32,
   "metadata": {},
   "outputs": [
    {
     "data": {
      "text/plain": [
       "[(0,\n",
       "  '0.016*\"patient\" + 0.013*\"placed\" + 0.013*\"c\" + 0.011*\"left\" + 0.009*\"procedure\" + 0.007*\"incision\" + 0.007*\"used\" + 0.007*\"right\" + 0.007*\"anesthesia\" + 0.006*\"well\"'),\n",
       " (1,\n",
       "  '0.016*\"right\" + 0.013*\"normal\" + 0.012*\"left\" + 0.006*\"pain\" + 0.006*\"foot\" + 0.006*\"tendon\" + 0.006*\"mri\" + 0.005*\"exam\" + 0.005*\"mild\" + 0.005*\"spine\"'),\n",
       " (2,\n",
       "  '0.021*\"artery\" + 0.016*\"patient\" + 0.013*\"placed\" + 0.012*\"left\" + 0.010*\"carotid\" + 0.008*\"right\" + 0.008*\"running\" + 0.008*\"procedure\" + 0.008*\"femoral\" + 0.008*\"using\"'),\n",
       " (3,\n",
       "  '0.018*\"patient\" + 0.017*\"procedure\" + 0.012*\"catheter\" + 0.011*\"lead\" + 0.010*\"right\" + 0.009*\"atrial\" + 0.008*\"left\" + 0.008*\"using\" + 0.008*\"removed\" + 0.007*\"needle\"'),\n",
       " (4,\n",
       "  '0.035*\"left\" + 0.030*\"artery\" + 0.030*\"right\" + 0.017*\"coronary\" + 0.012*\"pulmonary\" + 0.011*\"catheter\" + 0.009*\"stenosis\" + 0.009*\"patient\" + 0.009*\"normal\" + 0.008*\"french\"'),\n",
       " (5,\n",
       "  '0.022*\"patient\" + 0.018*\"history\" + 0.011*\"mg\" + 0.007*\"pain\" + 0.006*\"heart\" + 0.006*\"normal\" + 0.005*\"disease\" + 0.005*\"past\" + 0.005*\"daily\" + 0.005*\"day\"'),\n",
       " (6,\n",
       "  '0.019*\"patient\" + 0.011*\"procedure\" + 0.010*\"right\" + 0.008*\"well\" + 0.006*\"normal\" + 0.006*\"cm\" + 0.006*\"upper\" + 0.006*\"lobe\" + 0.005*\"also\" + 0.005*\"x\"')]"
      ]
     },
     "execution_count": 32,
     "metadata": {},
     "output_type": "execute_result"
    }
   ],
   "source": [
    "lda_model_7.print_topics(num_words=10)"
   ]
  },
  {
   "cell_type": "code",
   "execution_count": 13,
   "metadata": {},
   "outputs": [
    {
     "data": {
      "text/plain": [
       "-7.814665314218572"
      ]
     },
     "execution_count": 13,
     "metadata": {},
     "output_type": "execute_result"
    }
   ],
   "source": [
    "#lowest log perplexity\n",
    "lda_model_7.log_perplexity(doc_term_matrix)"
   ]
  },
  {
   "cell_type": "code",
   "execution_count": 14,
   "metadata": {},
   "outputs": [],
   "source": [
    "lda_model_5 = lda(doc_term_matrix,\n",
    "    num_topics=topic_5,\n",
    "    id2word = dict_,\n",
    "    iterations=iterations,\n",
    "    passes=passes,\n",
    "    eval_every=eval_every,\n",
    "    random_state=9651\n",
    ")"
   ]
  },
  {
   "cell_type": "code",
   "execution_count": 33,
   "metadata": {},
   "outputs": [
    {
     "data": {
      "text/plain": [
       "[(0,\n",
       "  '0.019*\"patient\" + 0.017*\"procedure\" + 0.011*\"left\" + 0.011*\"right\" + 0.010*\"c\" + 0.009*\"placed\" + 0.007*\"chest\" + 0.006*\"well\" + 0.005*\"removed\" + 0.005*\"diagnosis\"'),\n",
       " (1,\n",
       "  '0.013*\"right\" + 0.012*\"normal\" + 0.011*\"left\" + 0.006*\"pain\" + 0.005*\"exam\" + 0.005*\"l\" + 0.004*\"mild\" + 0.004*\"foot\" + 0.004*\"mri\" + 0.004*\"unremarkable\"'),\n",
       " (2,\n",
       "  '0.015*\"patient\" + 0.013*\"placed\" + 0.008*\"artery\" + 0.007*\"procedure\" + 0.007*\"right\" + 0.007*\"using\" + 0.007*\"left\" + 0.006*\"performed\" + 0.006*\"incision\" + 0.006*\"carotid\"'),\n",
       " (3,\n",
       "  '0.022*\"patient\" + 0.017*\"history\" + 0.010*\"mg\" + 0.006*\"pain\" + 0.006*\"normal\" + 0.005*\"heart\" + 0.005*\"also\" + 0.005*\"disease\" + 0.005*\"past\" + 0.005*\"daily\"'),\n",
       " (4,\n",
       "  '0.033*\"left\" + 0.031*\"artery\" + 0.028*\"right\" + 0.017*\"coronary\" + 0.010*\"pulmonary\" + 0.010*\"catheter\" + 0.009*\"patient\" + 0.009*\"stenosis\" + 0.009*\"normal\" + 0.007*\"french\"')]"
      ]
     },
     "execution_count": 33,
     "metadata": {},
     "output_type": "execute_result"
    }
   ],
   "source": [
    "lda_model_5.print_topics(num_words=10)"
   ]
  },
  {
   "cell_type": "code",
   "execution_count": 15,
   "metadata": {},
   "outputs": [
    {
     "data": {
      "text/plain": [
       "-7.828585627470141"
      ]
     },
     "execution_count": 15,
     "metadata": {},
     "output_type": "execute_result"
    }
   ],
   "source": [
    "lda_model_5.log_perplexity(doc_term_matrix)"
   ]
  },
  {
   "cell_type": "code",
   "execution_count": 16,
   "metadata": {},
   "outputs": [],
   "source": [
    "lda_model_3 = lda(doc_term_matrix,\n",
    "    num_topics=topic_3,\n",
    "    id2word = dict_,\n",
    "    iterations=iterations,\n",
    "    passes=passes,\n",
    "    eval_every=eval_every,\n",
    "    random_state=9651\n",
    ")"
   ]
  },
  {
   "cell_type": "code",
   "execution_count": 17,
   "metadata": {},
   "outputs": [
    {
     "data": {
      "text/plain": [
       "[(0,\n",
       "  '0.026*\"left\" + 0.024*\"artery\" + 0.023*\"right\" + 0.013*\"patient\" + 0.011*\"coronary\" + 0.010*\"procedure\" + 0.009*\"catheter\" + 0.007*\"pulmonary\" + 0.006*\"performed\" + 0.006*\"stenosis\"'),\n",
       " (1,\n",
       "  '0.020*\"patient\" + 0.016*\"history\" + 0.010*\"mg\" + 0.007*\"normal\" + 0.006*\"pain\" + 0.005*\"heart\" + 0.005*\"disease\" + 0.005*\"also\" + 0.005*\"past\" + 0.004*\"daily\"'),\n",
       " (2,\n",
       "  '0.013*\"patient\" + 0.010*\"right\" + 0.009*\"left\" + 0.008*\"placed\" + 0.007*\"procedure\" + 0.007*\"c\" + 0.005*\"well\" + 0.005*\"incision\" + 0.004*\"using\" + 0.004*\"anesthesia\"')]"
      ]
     },
     "execution_count": 17,
     "metadata": {},
     "output_type": "execute_result"
    }
   ],
   "source": [
    "lda_model_3.print_topics(num_words=10)"
   ]
  },
  {
   "cell_type": "code",
   "execution_count": 34,
   "metadata": {},
   "outputs": [
    {
     "data": {
      "text/plain": [
       "-7.8868891057806065"
      ]
     },
     "execution_count": 34,
     "metadata": {},
     "output_type": "execute_result"
    }
   ],
   "source": [
    "lda_model_3.log_perplexity(doc_term_matrix)"
   ]
  },
  {
   "cell_type": "markdown",
   "metadata": {},
   "source": [
    "### Collocations - Most Common Phrases"
   ]
  },
  {
   "cell_type": "code",
   "execution_count": 19,
   "metadata": {},
   "outputs": [],
   "source": [
    "#clean text for collocations\n",
    "def token_stop_collocations(text):\n",
    "    \n",
    "    # replace any non-letters (except numbers) with a space\n",
    "    text = re.sub('[^A-Za-z]+', ' ', str(text))\n",
    "    \n",
    "    # lower case the text\n",
    "    text = text.lower()\n",
    "    \n",
    "    tokens = nltk.word_tokenize(text) # tokenize the text\n",
    "    \n",
    "    new_text = \"\"\n",
    "    for word in tokens:\n",
    "        if word not in set(stopwords.words('english')): # remove stop words\n",
    "          new_text = new_text + \" \" + word\n",
    "    return new_text"
   ]
  },
  {
   "cell_type": "code",
   "execution_count": 24,
   "metadata": {},
   "outputs": [
    {
     "data": {
      "text/html": [
       "<div>\n",
       "<style scoped>\n",
       "    .dataframe tbody tr th:only-of-type {\n",
       "        vertical-align: middle;\n",
       "    }\n",
       "\n",
       "    .dataframe tbody tr th {\n",
       "        vertical-align: top;\n",
       "    }\n",
       "\n",
       "    .dataframe thead th {\n",
       "        text-align: right;\n",
       "    }\n",
       "</style>\n",
       "<table border=\"1\" class=\"dataframe\">\n",
       "  <thead>\n",
       "    <tr style=\"text-align: right;\">\n",
       "      <th></th>\n",
       "      <th>Index</th>\n",
       "      <th>transcription</th>\n",
       "      <th>cleaned transcription</th>\n",
       "      <th>collocations transcription</th>\n",
       "    </tr>\n",
       "  </thead>\n",
       "  <tbody>\n",
       "    <tr>\n",
       "      <th>0</th>\n",
       "      <td>0</td>\n",
       "      <td>SUBJECTIVE:,  This 23-year-old white female pr...</td>\n",
       "      <td>[subjective, year, old, white, female, present...</td>\n",
       "      <td>subjective year old white female presents com...</td>\n",
       "    </tr>\n",
       "    <tr>\n",
       "      <th>1</th>\n",
       "      <td>1</td>\n",
       "      <td>PAST MEDICAL HISTORY:, He has difficulty climb...</td>\n",
       "      <td>[past, medical, history, difficulty, climbing,...</td>\n",
       "      <td>past medical history difficulty climbing stai...</td>\n",
       "    </tr>\n",
       "  </tbody>\n",
       "</table>\n",
       "</div>"
      ],
      "text/plain": [
       "   Index                                      transcription  \\\n",
       "0      0  SUBJECTIVE:,  This 23-year-old white female pr...   \n",
       "1      1  PAST MEDICAL HISTORY:, He has difficulty climb...   \n",
       "\n",
       "                               cleaned transcription  \\\n",
       "0  [subjective, year, old, white, female, present...   \n",
       "1  [past, medical, history, difficulty, climbing,...   \n",
       "\n",
       "                          collocations transcription  \n",
       "0   subjective year old white female presents com...  \n",
       "1   past medical history difficulty climbing stai...  "
      ]
     },
     "execution_count": 24,
     "metadata": {},
     "output_type": "execute_result"
    }
   ],
   "source": [
    "df['collocations transcription'] = df['transcription'].apply(token_stop_collocations)\n",
    "df.head(2)"
   ]
  },
  {
   "cell_type": "code",
   "execution_count": 27,
   "metadata": {},
   "outputs": [],
   "source": [
    "#turn 'collocations transcription' column into one string\n",
    "text_str = ' '.join([str(val) for val in df['collocations transcription'].values])"
   ]
  },
  {
   "cell_type": "code",
   "execution_count": 30,
   "metadata": {},
   "outputs": [],
   "source": [
    "bigram_measures = BigramAssocMeasures()"
   ]
  },
  {
   "cell_type": "code",
   "execution_count": 28,
   "metadata": {},
   "outputs": [],
   "source": [
    "finder = BigramCollocationFinder.from_words(word_tokenize(text_str))"
   ]
  },
  {
   "cell_type": "code",
   "execution_count": 31,
   "metadata": {},
   "outputs": [
    {
     "data": {
      "text/plain": [
       "[('abbott', 'northwestern'),\n",
       " ('abo', 'incompatibility'),\n",
       " ('acellular', 'dpt'),\n",
       " ('acetyl', 'cysteine'),\n",
       " ('acupuncture', 'tens')]"
      ]
     },
     "execution_count": 31,
     "metadata": {},
     "output_type": "execute_result"
    }
   ],
   "source": [
    "#most common short phrases \n",
    "finder.nbest(bigram_measures.pmi, 5)"
   ]
  },
  {
   "cell_type": "markdown",
   "metadata": {},
   "source": [
    "## Ted Talks"
   ]
  },
  {
   "cell_type": "code",
   "execution_count": 35,
   "metadata": {},
   "outputs": [],
   "source": [
    "ted_main = pd.read_csv('ted_main.csv')\n",
    "transcripts = pd.read_csv('transcripts.csv')"
   ]
  },
  {
   "cell_type": "code",
   "execution_count": 36,
   "metadata": {},
   "outputs": [
    {
     "data": {
      "text/html": [
       "<div>\n",
       "<style scoped>\n",
       "    .dataframe tbody tr th:only-of-type {\n",
       "        vertical-align: middle;\n",
       "    }\n",
       "\n",
       "    .dataframe tbody tr th {\n",
       "        vertical-align: top;\n",
       "    }\n",
       "\n",
       "    .dataframe thead th {\n",
       "        text-align: right;\n",
       "    }\n",
       "</style>\n",
       "<table border=\"1\" class=\"dataframe\">\n",
       "  <thead>\n",
       "    <tr style=\"text-align: right;\">\n",
       "      <th></th>\n",
       "      <th>comments</th>\n",
       "      <th>description</th>\n",
       "      <th>duration</th>\n",
       "      <th>event</th>\n",
       "      <th>film_date</th>\n",
       "      <th>languages</th>\n",
       "      <th>main_speaker</th>\n",
       "      <th>name</th>\n",
       "      <th>num_speaker</th>\n",
       "      <th>published_date</th>\n",
       "      <th>ratings</th>\n",
       "      <th>related_talks</th>\n",
       "      <th>speaker_occupation</th>\n",
       "      <th>tags</th>\n",
       "      <th>title</th>\n",
       "      <th>url</th>\n",
       "      <th>views</th>\n",
       "    </tr>\n",
       "  </thead>\n",
       "  <tbody>\n",
       "    <tr>\n",
       "      <th>0</th>\n",
       "      <td>4553</td>\n",
       "      <td>Sir Ken Robinson makes an entertaining and pro...</td>\n",
       "      <td>1164</td>\n",
       "      <td>TED2006</td>\n",
       "      <td>1140825600</td>\n",
       "      <td>60</td>\n",
       "      <td>Ken Robinson</td>\n",
       "      <td>Ken Robinson: Do schools kill creativity?</td>\n",
       "      <td>1</td>\n",
       "      <td>1151367060</td>\n",
       "      <td>[{'id': 7, 'name': 'Funny', 'count': 19645}, {...</td>\n",
       "      <td>[{'id': 865, 'hero': 'https://pe.tedcdn.com/im...</td>\n",
       "      <td>Author/educator</td>\n",
       "      <td>['children', 'creativity', 'culture', 'dance',...</td>\n",
       "      <td>Do schools kill creativity?</td>\n",
       "      <td>https://www.ted.com/talks/ken_robinson_says_sc...</td>\n",
       "      <td>47227110</td>\n",
       "    </tr>\n",
       "    <tr>\n",
       "      <th>1</th>\n",
       "      <td>265</td>\n",
       "      <td>With the same humor and humanity he exuded in ...</td>\n",
       "      <td>977</td>\n",
       "      <td>TED2006</td>\n",
       "      <td>1140825600</td>\n",
       "      <td>43</td>\n",
       "      <td>Al Gore</td>\n",
       "      <td>Al Gore: Averting the climate crisis</td>\n",
       "      <td>1</td>\n",
       "      <td>1151367060</td>\n",
       "      <td>[{'id': 7, 'name': 'Funny', 'count': 544}, {'i...</td>\n",
       "      <td>[{'id': 243, 'hero': 'https://pe.tedcdn.com/im...</td>\n",
       "      <td>Climate advocate</td>\n",
       "      <td>['alternative energy', 'cars', 'climate change...</td>\n",
       "      <td>Averting the climate crisis</td>\n",
       "      <td>https://www.ted.com/talks/al_gore_on_averting_...</td>\n",
       "      <td>3200520</td>\n",
       "    </tr>\n",
       "  </tbody>\n",
       "</table>\n",
       "</div>"
      ],
      "text/plain": [
       "   comments                                        description  duration  \\\n",
       "0      4553  Sir Ken Robinson makes an entertaining and pro...      1164   \n",
       "1       265  With the same humor and humanity he exuded in ...       977   \n",
       "\n",
       "     event   film_date  languages  main_speaker  \\\n",
       "0  TED2006  1140825600         60  Ken Robinson   \n",
       "1  TED2006  1140825600         43       Al Gore   \n",
       "\n",
       "                                        name  num_speaker  published_date  \\\n",
       "0  Ken Robinson: Do schools kill creativity?            1      1151367060   \n",
       "1       Al Gore: Averting the climate crisis            1      1151367060   \n",
       "\n",
       "                                             ratings  \\\n",
       "0  [{'id': 7, 'name': 'Funny', 'count': 19645}, {...   \n",
       "1  [{'id': 7, 'name': 'Funny', 'count': 544}, {'i...   \n",
       "\n",
       "                                       related_talks speaker_occupation  \\\n",
       "0  [{'id': 865, 'hero': 'https://pe.tedcdn.com/im...    Author/educator   \n",
       "1  [{'id': 243, 'hero': 'https://pe.tedcdn.com/im...   Climate advocate   \n",
       "\n",
       "                                                tags  \\\n",
       "0  ['children', 'creativity', 'culture', 'dance',...   \n",
       "1  ['alternative energy', 'cars', 'climate change...   \n",
       "\n",
       "                         title  \\\n",
       "0  Do schools kill creativity?   \n",
       "1  Averting the climate crisis   \n",
       "\n",
       "                                                 url     views  \n",
       "0  https://www.ted.com/talks/ken_robinson_says_sc...  47227110  \n",
       "1  https://www.ted.com/talks/al_gore_on_averting_...   3200520  "
      ]
     },
     "execution_count": 36,
     "metadata": {},
     "output_type": "execute_result"
    }
   ],
   "source": [
    "ted_main.head(2)"
   ]
  },
  {
   "cell_type": "markdown",
   "metadata": {},
   "source": [
    "### Most Common Occupations of TED Talk Speakers"
   ]
  },
  {
   "cell_type": "code",
   "execution_count": 37,
   "metadata": {},
   "outputs": [
    {
     "data": {
      "text/html": [
       "<div>\n",
       "<style scoped>\n",
       "    .dataframe tbody tr th:only-of-type {\n",
       "        vertical-align: middle;\n",
       "    }\n",
       "\n",
       "    .dataframe tbody tr th {\n",
       "        vertical-align: top;\n",
       "    }\n",
       "\n",
       "    .dataframe thead th {\n",
       "        text-align: right;\n",
       "    }\n",
       "</style>\n",
       "<table border=\"1\" class=\"dataframe\">\n",
       "  <thead>\n",
       "    <tr style=\"text-align: right;\">\n",
       "      <th></th>\n",
       "      <th>Occupation</th>\n",
       "      <th>Count</th>\n",
       "    </tr>\n",
       "  </thead>\n",
       "  <tbody>\n",
       "    <tr>\n",
       "      <th>0</th>\n",
       "      <td>Writer</td>\n",
       "      <td>45</td>\n",
       "    </tr>\n",
       "    <tr>\n",
       "      <th>1</th>\n",
       "      <td>Designer</td>\n",
       "      <td>34</td>\n",
       "    </tr>\n",
       "    <tr>\n",
       "      <th>2</th>\n",
       "      <td>Artist</td>\n",
       "      <td>34</td>\n",
       "    </tr>\n",
       "    <tr>\n",
       "      <th>3</th>\n",
       "      <td>Journalist</td>\n",
       "      <td>33</td>\n",
       "    </tr>\n",
       "    <tr>\n",
       "      <th>4</th>\n",
       "      <td>Entrepreneur</td>\n",
       "      <td>31</td>\n",
       "    </tr>\n",
       "  </tbody>\n",
       "</table>\n",
       "</div>"
      ],
      "text/plain": [
       "     Occupation  Count\n",
       "0        Writer     45\n",
       "1      Designer     34\n",
       "2        Artist     34\n",
       "3    Journalist     33\n",
       "4  Entrepreneur     31"
      ]
     },
     "execution_count": 37,
     "metadata": {},
     "output_type": "execute_result"
    }
   ],
   "source": [
    "common_occupation = ted_main['speaker_occupation'].value_counts().rename_axis('Occupation').reset_index(name='Count')\n",
    "common_occupation.head()"
   ]
  },
  {
   "cell_type": "code",
   "execution_count": 40,
   "metadata": {},
   "outputs": [
    {
     "data": {
      "text/plain": [
       "Text(0.5, 1.0, 'Most Common Occupations')"
      ]
     },
     "execution_count": 40,
     "metadata": {},
     "output_type": "execute_result"
    },
    {
     "data": {
      "image/png": "[encoded data removed]",
      "text/plain": [
       "<Figure size 432x288 with 1 Axes>"
      ]
     },
     "metadata": {
      "needs_background": "light"
     },
     "output_type": "display_data"
    }
   ],
   "source": [
    "common_occupation = common_occupation.iloc[:5]\n",
    "sns.barplot(x=common_occupation['Count'], y=common_occupation['Occupation'])\n",
    "plt.title('Most Common Occupations')"
   ]
  },
  {
   "cell_type": "markdown",
   "metadata": {},
   "source": [
    "### Selecting Top 100 most popular Ted Talks "
   ]
  },
  {
   "cell_type": "code",
   "execution_count": 45,
   "metadata": {},
   "outputs": [
    {
     "data": {
      "text/html": [
       "<div>\n",
       "<style scoped>\n",
       "    .dataframe tbody tr th:only-of-type {\n",
       "        vertical-align: middle;\n",
       "    }\n",
       "\n",
       "    .dataframe tbody tr th {\n",
       "        vertical-align: top;\n",
       "    }\n",
       "\n",
       "    .dataframe thead th {\n",
       "        text-align: right;\n",
       "    }\n",
       "</style>\n",
       "<table border=\"1\" class=\"dataframe\">\n",
       "  <thead>\n",
       "    <tr style=\"text-align: right;\">\n",
       "      <th></th>\n",
       "      <th>comments</th>\n",
       "      <th>description</th>\n",
       "      <th>duration</th>\n",
       "      <th>event</th>\n",
       "      <th>film_date</th>\n",
       "      <th>languages</th>\n",
       "      <th>main_speaker</th>\n",
       "      <th>name</th>\n",
       "      <th>num_speaker</th>\n",
       "      <th>published_date</th>\n",
       "      <th>ratings</th>\n",
       "      <th>related_talks</th>\n",
       "      <th>speaker_occupation</th>\n",
       "      <th>tags</th>\n",
       "      <th>title</th>\n",
       "      <th>url</th>\n",
       "      <th>views</th>\n",
       "    </tr>\n",
       "  </thead>\n",
       "  <tbody>\n",
       "    <tr>\n",
       "      <th>0</th>\n",
       "      <td>4553</td>\n",
       "      <td>Sir Ken Robinson makes an entertaining and pro...</td>\n",
       "      <td>1164</td>\n",
       "      <td>TED2006</td>\n",
       "      <td>1140825600</td>\n",
       "      <td>60</td>\n",
       "      <td>Ken Robinson</td>\n",
       "      <td>Ken Robinson: Do schools kill creativity?</td>\n",
       "      <td>1</td>\n",
       "      <td>1151367060</td>\n",
       "      <td>[{'id': 7, 'name': 'Funny', 'count': 19645}, {...</td>\n",
       "      <td>[{'id': 865, 'hero': 'https://pe.tedcdn.com/im...</td>\n",
       "      <td>Author/educator</td>\n",
       "      <td>['children', 'creativity', 'culture', 'dance',...</td>\n",
       "      <td>Do schools kill creativity?</td>\n",
       "      <td>https://www.ted.com/talks/ken_robinson_says_sc...</td>\n",
       "      <td>47227110</td>\n",
       "    </tr>\n",
       "    <tr>\n",
       "      <th>1346</th>\n",
       "      <td>2290</td>\n",
       "      <td>Body language affects how others see us, but i...</td>\n",
       "      <td>1262</td>\n",
       "      <td>TEDGlobal 2012</td>\n",
       "      <td>1340668800</td>\n",
       "      <td>51</td>\n",
       "      <td>Amy Cuddy</td>\n",
       "      <td>Amy Cuddy: Your body language may shape who yo...</td>\n",
       "      <td>1</td>\n",
       "      <td>1349103608</td>\n",
       "      <td>[{'id': 23, 'name': 'Jaw-dropping', 'count': 3...</td>\n",
       "      <td>[{'id': 605, 'hero': 'https://pe.tedcdn.com/im...</td>\n",
       "      <td>Social psychologist</td>\n",
       "      <td>['body language', 'brain', 'business', 'psycho...</td>\n",
       "      <td>Your body language may shape who you are</td>\n",
       "      <td>https://www.ted.com/talks/amy_cuddy_your_body_...</td>\n",
       "      <td>43155405</td>\n",
       "    </tr>\n",
       "  </tbody>\n",
       "</table>\n",
       "</div>"
      ],
      "text/plain": [
       "      comments                                        description  duration  \\\n",
       "0         4553  Sir Ken Robinson makes an entertaining and pro...      1164   \n",
       "1346      2290  Body language affects how others see us, but i...      1262   \n",
       "\n",
       "               event   film_date  languages  main_speaker  \\\n",
       "0            TED2006  1140825600         60  Ken Robinson   \n",
       "1346  TEDGlobal 2012  1340668800         51     Amy Cuddy   \n",
       "\n",
       "                                                   name  num_speaker  \\\n",
       "0             Ken Robinson: Do schools kill creativity?            1   \n",
       "1346  Amy Cuddy: Your body language may shape who yo...            1   \n",
       "\n",
       "      published_date                                            ratings  \\\n",
       "0         1151367060  [{'id': 7, 'name': 'Funny', 'count': 19645}, {...   \n",
       "1346      1349103608  [{'id': 23, 'name': 'Jaw-dropping', 'count': 3...   \n",
       "\n",
       "                                          related_talks   speaker_occupation  \\\n",
       "0     [{'id': 865, 'hero': 'https://pe.tedcdn.com/im...      Author/educator   \n",
       "1346  [{'id': 605, 'hero': 'https://pe.tedcdn.com/im...  Social psychologist   \n",
       "\n",
       "                                                   tags  \\\n",
       "0     ['children', 'creativity', 'culture', 'dance',...   \n",
       "1346  ['body language', 'brain', 'business', 'psycho...   \n",
       "\n",
       "                                         title  \\\n",
       "0                  Do schools kill creativity?   \n",
       "1346  Your body language may shape who you are   \n",
       "\n",
       "                                                    url     views  \n",
       "0     https://www.ted.com/talks/ken_robinson_says_sc...  47227110  \n",
       "1346  https://www.ted.com/talks/amy_cuddy_your_body_...  43155405  "
      ]
     },
     "execution_count": 45,
     "metadata": {},
     "output_type": "execute_result"
    }
   ],
   "source": [
    "#top 100 ted talks by views\n",
    "ted_main = ted_main.sort_values(by=['views'],ascending=False)[:100]\n",
    "ted_main.head(2)"
   ]
  },
  {
   "cell_type": "code",
   "execution_count": 46,
   "metadata": {},
   "outputs": [
    {
     "data": {
      "text/html": [
       "<div>\n",
       "<style scoped>\n",
       "    .dataframe tbody tr th:only-of-type {\n",
       "        vertical-align: middle;\n",
       "    }\n",
       "\n",
       "    .dataframe tbody tr th {\n",
       "        vertical-align: top;\n",
       "    }\n",
       "\n",
       "    .dataframe thead th {\n",
       "        text-align: right;\n",
       "    }\n",
       "</style>\n",
       "<table border=\"1\" class=\"dataframe\">\n",
       "  <thead>\n",
       "    <tr style=\"text-align: right;\">\n",
       "      <th></th>\n",
       "      <th>transcript</th>\n",
       "      <th>url</th>\n",
       "    </tr>\n",
       "  </thead>\n",
       "  <tbody>\n",
       "    <tr>\n",
       "      <th>0</th>\n",
       "      <td>Good morning. How are you?(Laughter)It's been ...</td>\n",
       "      <td>https://www.ted.com/talks/ken_robinson_says_sc...</td>\n",
       "    </tr>\n",
       "    <tr>\n",
       "      <th>1</th>\n",
       "      <td>Thank you so much, Chris. And it's truly a gre...</td>\n",
       "      <td>https://www.ted.com/talks/al_gore_on_averting_...</td>\n",
       "    </tr>\n",
       "  </tbody>\n",
       "</table>\n",
       "</div>"
      ],
      "text/plain": [
       "                                          transcript  \\\n",
       "0  Good morning. How are you?(Laughter)It's been ...   \n",
       "1  Thank you so much, Chris. And it's truly a gre...   \n",
       "\n",
       "                                                 url  \n",
       "0  https://www.ted.com/talks/ken_robinson_says_sc...  \n",
       "1  https://www.ted.com/talks/al_gore_on_averting_...  "
      ]
     },
     "execution_count": 46,
     "metadata": {},
     "output_type": "execute_result"
    }
   ],
   "source": [
    "transcripts.head(2)"
   ]
  },
  {
   "cell_type": "code",
   "execution_count": 47,
   "metadata": {},
   "outputs": [],
   "source": [
    "#merge 'ted_main' and 'transcripts' on 'url' col\n",
    "merge_df = pd.merge(ted_main, transcripts, on='url')"
   ]
  },
  {
   "cell_type": "code",
   "execution_count": 48,
   "metadata": {},
   "outputs": [],
   "source": [
    "#take out only speaker and transcript\n",
    "merged_transcript = merge_df[['main_speaker','transcript']]"
   ]
  },
  {
   "cell_type": "code",
   "execution_count": 49,
   "metadata": {},
   "outputs": [
    {
     "name": "stderr",
     "output_type": "stream",
     "text": [
      "<ipython-input-49-66e8564d46bf>:17: SettingWithCopyWarning: \n",
      "A value is trying to be set on a copy of a slice from a DataFrame.\n",
      "Try using .loc[row_indexer,col_indexer] = value instead\n",
      "\n",
      "See the caveats in the documentation: https://pandas.pydata.org/pandas-docs/stable/user_guide/indexing.html#returning-a-view-versus-a-copy\n",
      "  merged_transcript['cleaned transcript'] = merged_transcript['transcript'].apply(token_stop_transcript)\n"
     ]
    },
    {
     "data": {
      "text/html": [
       "<div>\n",
       "<style scoped>\n",
       "    .dataframe tbody tr th:only-of-type {\n",
       "        vertical-align: middle;\n",
       "    }\n",
       "\n",
       "    .dataframe tbody tr th {\n",
       "        vertical-align: top;\n",
       "    }\n",
       "\n",
       "    .dataframe thead th {\n",
       "        text-align: right;\n",
       "    }\n",
       "</style>\n",
       "<table border=\"1\" class=\"dataframe\">\n",
       "  <thead>\n",
       "    <tr style=\"text-align: right;\">\n",
       "      <th></th>\n",
       "      <th>main_speaker</th>\n",
       "      <th>transcript</th>\n",
       "      <th>cleaned transcript</th>\n",
       "    </tr>\n",
       "  </thead>\n",
       "  <tbody>\n",
       "    <tr>\n",
       "      <th>0</th>\n",
       "      <td>Ken Robinson</td>\n",
       "      <td>Good morning. How are you?(Laughter)It's been ...</td>\n",
       "      <td>good morning laughter great blown away whole ...</td>\n",
       "    </tr>\n",
       "    <tr>\n",
       "      <th>1</th>\n",
       "      <td>Amy Cuddy</td>\n",
       "      <td>So I want to start by offering you a free no-t...</td>\n",
       "      <td>want start offering free tech life hack requi...</td>\n",
       "    </tr>\n",
       "  </tbody>\n",
       "</table>\n",
       "</div>"
      ],
      "text/plain": [
       "   main_speaker                                         transcript  \\\n",
       "0  Ken Robinson  Good morning. How are you?(Laughter)It's been ...   \n",
       "1     Amy Cuddy  So I want to start by offering you a free no-t...   \n",
       "\n",
       "                                  cleaned transcript  \n",
       "0   good morning laughter great blown away whole ...  \n",
       "1   want start offering free tech life hack requi...  "
      ]
     },
     "execution_count": 49,
     "metadata": {},
     "output_type": "execute_result"
    }
   ],
   "source": [
    "def token_stop_transcript(text):\n",
    "    \n",
    "    # replace any non-letters (except numbers) with a space\n",
    "    text = re.sub('[^A-Za-z]+', ' ', str(text))\n",
    "    \n",
    "    # lower case the text\n",
    "    text = text.lower()\n",
    "    \n",
    "    tokens = nltk.word_tokenize(text) # tokenize the text\n",
    "    \n",
    "    new_text = \"\"\n",
    "    for word in tokens:\n",
    "        if word not in set(stopwords.words('english')): # remove stop words\n",
    "          new_text = new_text + \" \" + word\n",
    "    return new_text\n",
    "\n",
    "merged_transcript['cleaned transcript'] = merged_transcript['transcript'].apply(token_stop_transcript)\n",
    "merged_transcript.head(2)"
   ]
  },
  {
   "cell_type": "code",
   "execution_count": 51,
   "metadata": {},
   "outputs": [],
   "source": [
    "stop_words = stopwords.words('english')\n",
    "#extend the stop word list with common filler words from TED talks\n",
    "stop_words.extend(['one','things','got','like','going','laughter','applause','would','say','really','think','something','could','people','get','ok','make','actually','two','also','much','even','go','ca','em','us','yeah'])"
   ]
  },
  {
   "cell_type": "markdown",
   "metadata": {},
   "source": [
    "## Most Common Themes"
   ]
  },
  {
   "cell_type": "code",
   "execution_count": 52,
   "metadata": {},
   "outputs": [],
   "source": [
    "vectorizer = TfidfVectorizer(stop_words = stop_words , min_df = 0.1)"
   ]
  },
  {
   "cell_type": "code",
   "execution_count": 53,
   "metadata": {},
   "outputs": [],
   "source": [
    "tfidf = vectorizer.fit_transform(merged_transcript['cleaned transcript'])"
   ]
  },
  {
   "cell_type": "code",
   "execution_count": 54,
   "metadata": {},
   "outputs": [],
   "source": [
    "nmf = NMF(n_components = 6)"
   ]
  },
  {
   "cell_type": "code",
   "execution_count": 55,
   "metadata": {},
   "outputs": [],
   "source": [
    "topic_values = nmf.fit_transform(tfidf)"
   ]
  },
  {
   "cell_type": "code",
   "execution_count": 56,
   "metadata": {},
   "outputs": [
    {
     "name": "stdout",
     "output_type": "stream",
     "text": [
      "Topic #1: want know time life way love happiness work feel thing\n",
      "Topic #2: shame said ted women men talk vulnerable know walk man\n",
      "Topic #3: music ends play know passion thank brother eyes piece lot\n",
      "Topic #4: kids education school children students know learn teaching food america\n",
      "Topic #5: see right information body use world light universe camera look\n",
      "Topic #6: said email know thought car women okay depression well love\n"
     ]
    }
   ],
   "source": [
    "for topic_num, topic in enumerate(nmf.components_):\n",
    "    message = 'Topic #{}: '.format(topic_num + 1)\n",
    "    message += ' '.join([vectorizer.get_feature_names_out()[i] for i in topic.argsort()[:-11 :-1]])\n",
    "    print(message)"
   ]
  },
  {
   "cell_type": "code",
   "execution_count": 57,
   "metadata": {},
   "outputs": [],
   "source": [
    "#looking the words at each topic above and naming them\n",
    "topic_labels = ['happiness in life',\n",
    "                'feminine/masculine vulnerability',\n",
    "                'music','early education',\n",
    "                'introspection',\n",
    "                'heartbreak']"
   ]
  },
  {
   "cell_type": "code",
   "execution_count": 58,
   "metadata": {},
   "outputs": [
    {
     "data": {
      "text/html": [
       "<div>\n",
       "<style scoped>\n",
       "    .dataframe tbody tr th:only-of-type {\n",
       "        vertical-align: middle;\n",
       "    }\n",
       "\n",
       "    .dataframe tbody tr th {\n",
       "        vertical-align: top;\n",
       "    }\n",
       "\n",
       "    .dataframe thead th {\n",
       "        text-align: right;\n",
       "    }\n",
       "</style>\n",
       "<table border=\"1\" class=\"dataframe\">\n",
       "  <thead>\n",
       "    <tr style=\"text-align: right;\">\n",
       "      <th></th>\n",
       "      <th>happiness in life</th>\n",
       "      <th>feminine/masculine vulnerability</th>\n",
       "      <th>music</th>\n",
       "      <th>early education</th>\n",
       "      <th>introspection</th>\n",
       "      <th>heartbreak</th>\n",
       "    </tr>\n",
       "  </thead>\n",
       "  <tbody>\n",
       "    <tr>\n",
       "      <th>0</th>\n",
       "      <td>0.019918</td>\n",
       "      <td>0.011224</td>\n",
       "      <td>0.034344</td>\n",
       "      <td>0.404180</td>\n",
       "      <td>0.036168</td>\n",
       "      <td>0.168531</td>\n",
       "    </tr>\n",
       "    <tr>\n",
       "      <th>1</th>\n",
       "      <td>0.174173</td>\n",
       "      <td>0.023857</td>\n",
       "      <td>0.000000</td>\n",
       "      <td>0.006875</td>\n",
       "      <td>0.131649</td>\n",
       "      <td>0.000000</td>\n",
       "    </tr>\n",
       "  </tbody>\n",
       "</table>\n",
       "</div>"
      ],
      "text/plain": [
       "   happiness in life  feminine/masculine vulnerability     music  \\\n",
       "0           0.019918                          0.011224  0.034344   \n",
       "1           0.174173                          0.023857  0.000000   \n",
       "\n",
       "   early education  introspection  heartbreak  \n",
       "0         0.404180       0.036168    0.168531  \n",
       "1         0.006875       0.131649    0.000000  "
      ]
     },
     "execution_count": 58,
     "metadata": {},
     "output_type": "execute_result"
    }
   ],
   "source": [
    "#dataframe of topic scores\n",
    "df_topics = pd.DataFrame(topic_values, columns = topic_labels)\n",
    "df_topics.head(2)"
   ]
  },
  {
   "cell_type": "code",
   "execution_count": 59,
   "metadata": {},
   "outputs": [],
   "source": [
    "#attach dataframe of topic scores to each transcript\n",
    "merged_transcript = merged_transcript.reset_index(drop=True)\n",
    "merged_transcript = merged_transcript.join(df_topics)"
   ]
  },
  {
   "cell_type": "code",
   "execution_count": 60,
   "metadata": {},
   "outputs": [
    {
     "data": {
      "text/html": [
       "<div>\n",
       "<style scoped>\n",
       "    .dataframe tbody tr th:only-of-type {\n",
       "        vertical-align: middle;\n",
       "    }\n",
       "\n",
       "    .dataframe tbody tr th {\n",
       "        vertical-align: top;\n",
       "    }\n",
       "\n",
       "    .dataframe thead th {\n",
       "        text-align: right;\n",
       "    }\n",
       "</style>\n",
       "<table border=\"1\" class=\"dataframe\">\n",
       "  <thead>\n",
       "    <tr style=\"text-align: right;\">\n",
       "      <th></th>\n",
       "      <th>main_speaker</th>\n",
       "      <th>transcript</th>\n",
       "      <th>cleaned transcript</th>\n",
       "      <th>happiness in life</th>\n",
       "      <th>feminine/masculine vulnerability</th>\n",
       "      <th>music</th>\n",
       "      <th>early education</th>\n",
       "      <th>introspection</th>\n",
       "      <th>heartbreak</th>\n",
       "    </tr>\n",
       "  </thead>\n",
       "  <tbody>\n",
       "    <tr>\n",
       "      <th>0</th>\n",
       "      <td>Ken Robinson</td>\n",
       "      <td>Good morning. How are you?(Laughter)It's been ...</td>\n",
       "      <td>good morning laughter great blown away whole ...</td>\n",
       "      <td>0.019918</td>\n",
       "      <td>0.011224</td>\n",
       "      <td>0.034344</td>\n",
       "      <td>0.404180</td>\n",
       "      <td>0.036168</td>\n",
       "      <td>0.168531</td>\n",
       "    </tr>\n",
       "    <tr>\n",
       "      <th>1</th>\n",
       "      <td>Amy Cuddy</td>\n",
       "      <td>So I want to start by offering you a free no-t...</td>\n",
       "      <td>want start offering free tech life hack requi...</td>\n",
       "      <td>0.174173</td>\n",
       "      <td>0.023857</td>\n",
       "      <td>0.000000</td>\n",
       "      <td>0.006875</td>\n",
       "      <td>0.131649</td>\n",
       "      <td>0.000000</td>\n",
       "    </tr>\n",
       "  </tbody>\n",
       "</table>\n",
       "</div>"
      ],
      "text/plain": [
       "   main_speaker                                         transcript  \\\n",
       "0  Ken Robinson  Good morning. How are you?(Laughter)It's been ...   \n",
       "1     Amy Cuddy  So I want to start by offering you a free no-t...   \n",
       "\n",
       "                                  cleaned transcript  happiness in life  \\\n",
       "0   good morning laughter great blown away whole ...           0.019918   \n",
       "1   want start offering free tech life hack requi...           0.174173   \n",
       "\n",
       "   feminine/masculine vulnerability     music  early education  introspection  \\\n",
       "0                          0.011224  0.034344         0.404180       0.036168   \n",
       "1                          0.023857  0.000000         0.006875       0.131649   \n",
       "\n",
       "   heartbreak  \n",
       "0    0.168531  \n",
       "1    0.000000  "
      ]
     },
     "execution_count": 60,
     "metadata": {},
     "output_type": "execute_result"
    }
   ],
   "source": [
    "merged_transcript.head(2)"
   ]
  },
  {
   "cell_type": "code",
   "execution_count": 61,
   "metadata": {},
   "outputs": [],
   "source": [
    "#score threshold of 0.2\n",
    "for topic in topic_labels:\n",
    "    merged_transcript.loc[merged_transcript[topic] > 0.2, topic] = 1\n",
    "    merged_transcript.loc[merged_transcript[topic] < 0.2, topic] = 0"
   ]
  },
  {
   "cell_type": "code",
   "execution_count": 62,
   "metadata": {},
   "outputs": [
    {
     "name": "stdout",
     "output_type": "stream",
     "text": [
      "Among the top 100 most popular TED talks, there are 23.0 talks about happiness in life\n",
      "Among the top 100 most popular TED talks, there are 3.0 talks about feminine/masculine vulnerability\n",
      "Among the top 100 most popular TED talks, there are 7.0 talks about music\n",
      "Among the top 100 most popular TED talks, there are 9.0 talks about early education\n",
      "Among the top 100 most popular TED talks, there are 19.0 talks about introspection\n",
      "Among the top 100 most popular TED talks, there are 7.0 talks about heartbreak\n"
     ]
    }
   ],
   "source": [
    "for topic in topic_labels:\n",
    "    print(f\"Among the top 100 most popular TED talks, there are {merged_transcript[topic].sum()} talks about {topic}\")"
   ]
  }
 ],
 "metadata": {
  "kernelspec": {
   "display_name": "Python 3",
   "language": "python",
   "name": "python3"
  },
  "language_info": {
   "codemirror_mode": {
    "name": "ipython",
    "version": 3
   },
   "file_extension": ".py",
   "mimetype": "text/x-python",
   "name": "python",
   "nbconvert_exporter": "python",
   "pygments_lexer": "ipython3",
   "version": "3.8.5"
  }
 },
 "nbformat": 4,
 "nbformat_minor": 4
}
